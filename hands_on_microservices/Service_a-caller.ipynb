{
 "cells": [
  {
   "cell_type": "code",
   "execution_count": 16,
   "metadata": {},
   "outputs": [
    {
     "name": "stdout",
     "output_type": "stream",
     "text": [
      "[{\"_id\":\"60b6976f25b1-1742155537334\",\"hostname\":\"60b6976f25b1\",\"startTime\":\"2025-03-16T20:05:37\",\"startTimeLocal\":\"Sun Mar 16 20:05:37.334\",\"cmdLine\":{\"net\":{\"bindIp\":\"127.0.0.1\",\"port\":27017,\"tls\":{\"mode\":\"disabled\"}},\"processManagement\":{\"fork\":true,\"pidFilePath\":\"/tmp/docker-entrypoint-temp-mongod.pid\"},\"systemLog\":{\"destination\":\"file\",\"logAppend\":true,\"path\":\"/proc/1/fd/1\"}},\"pid\":27,\"buildinfo\":{\"version\":\"8.0.5\",\"gitVersion\":\"cb9e2e5e552ee39dea1e39d7859336456d0c9820\",\"modules\":[],\"allocator\":\"tcmalloc-google\",\"javascriptEngine\":\"mozjs\",\"sysInfo\":\"deprecated\",\"versionArray\":[8,0,5,0],\"openssl\":{\"running\":\"OpenSSL 3.0.13 30 Jan 2024\",\"compiled\":\"OpenSSL 3.0.13 30 Jan 2024\"},\"buildEnvironment\":{\"distmod\":\"ubuntu2404\",\"distarch\":\"x86_64\",\"cc\":\"/opt/mongodbtoolchain/v4/bin/gcc: gcc (GCC) 11.3.0\",\"ccflags\":\"-Werror -include mongo/platform/basic.h -ffp-contract=off -fasynchronous-unwind-tables -g2 -Wall -Wsign-compare -Wno-unknown-pragmas -Winvalid-pch -gdwarf-5 -fno-omit-frame-pointer -fno-strict-aliasing -O2 -march=sandybridge -mtune=generic -mprefer-vector-width=128 -Wno-unused-local-typedefs -Wno-unused-function -Wno-deprecated-declarations -Wno-unused-const-variable -Wno-unused-but-set-variable -Wno-missing-braces -Wno-psabi -fstack-protector-strong -gdwarf64 -Wa,--nocompress-debug-sections -fno-builtin-memcmp -Wimplicit-fallthrough=5\",\"cxx\":\"/opt/mongodbtoolchain/v4/bin/g++: g++ (GCC) 11.3.0\",\"cxxflags\":\"-Woverloaded-virtual -Wpessimizing-move -Wno-maybe-uninitialized -fsized-deallocation -std=c++20\",\"linkflags\":\"-Wl,--fatal-warnings -B/opt/mongodbtoolchain/v4/bin -gdwarf-5 -pthread -Wl,-z,now -fuse-ld=lld -fstack-protector-strong -gdwarf64 -Wl,--build-id -Wl,--hash-style=gnu -Wl,-z,noexecstack -Wl,--warn-execstack -Wl,-z,relro -Wl,--compress-debug-sections=none -Wl,-z,origin -Wl,--enable-new-dtags\",\"target_arch\":\"x86_64\",\"target_os\":\"linux\",\"cppdefines\":\"SAFEINT_USE_INTRINSICS 0 PCRE2_STATIC ABSL_ALLOCATOR_NOTHROW NDEBUG _XOPEN_SOURCE 700 _GNU_SOURCE _FORTIFY_SOURCE 2 ABSL_FORCE_ALIGNED_ACCESS BOOST_ENABLE_ASSERT_DEBUG_HANDLER BOOST_FILESYSTEM_NO_CXX20_ATOMIC_REF BOOST_LOG_NO_SHORTHAND_NAMES BOOST_LOG_USE_NATIVE_SYSLOG BOOST_LOG_WITHOUT_THREAD_ATTR BOOST_MATH_NO_LONG_DOUBLE_MATH_FUNCTIONS BOOST_SYSTEM_NO_DEPRECATED BOOST_THREAD_USES_DATETIME BOOST_THREAD_VERSION 5\"},\"bits\":64,\"debug\":false,\"maxBsonObjectSize\":16777216,\"storageEngines\":[\"devnull\",\"wiredTiger\"]}},{\"_id\":\"60b6976f25b1-1742155543551\",\"hostname\":\"60b6976f25b1\",\"startTime\":\"2025-03-16T20:05:43\",\"startTimeLocal\":\"Sun Mar 16 20:05:43.551\",\"cmdLine\":{\"net\":{\"bindIp\":\"*\"},\"security\":{\"authorization\":\"enabled\"}},\"pid\":1,\"buildinfo\":{\"version\":\"8.0.5\",\"gitVersion\":\"cb9e2e5e552ee39dea1e39d7859336456d0c9820\",\"modules\":[],\"allocator\":\"tcmalloc-google\",\"javascriptEngine\":\"mozjs\",\"sysInfo\":\"deprecated\",\"versionArray\":[8,0,5,0],\"openssl\":{\"running\":\"OpenSSL 3.0.13 30 Jan 2024\",\"compiled\":\"OpenSSL 3.0.13 30 Jan 2024\"},\"buildEnvironment\":{\"distmod\":\"ubuntu2404\",\"distarch\":\"x86_64\",\"cc\":\"/opt/mongodbtoolchain/v4/bin/gcc: gcc (GCC) 11.3.0\",\"ccflags\":\"-Werror -include mongo/platform/basic.h -ffp-contract=off -fasynchronous-unwind-tables -g2 -Wall -Wsign-compare -Wno-unknown-pragmas -Winvalid-pch -gdwarf-5 -fno-omit-frame-pointer -fno-strict-aliasing -O2 -march=sandybridge -mtune=generic -mprefer-vector-width=128 -Wno-unused-local-typedefs -Wno-unused-function -Wno-deprecated-declarations -Wno-unused-const-variable -Wno-unused-but-set-variable -Wno-missing-braces -Wno-psabi -fstack-protector-strong -gdwarf64 -Wa,--nocompress-debug-sections -fno-builtin-memcmp -Wimplicit-fallthrough=5\",\"cxx\":\"/opt/mongodbtoolchain/v4/bin/g++: g++ (GCC) 11.3.0\",\"cxxflags\":\"-Woverloaded-virtual -Wpessimizing-move -Wno-maybe-uninitialized -fsized-deallocation -std=c++20\",\"linkflags\":\"-Wl,--fatal-warnings -B/opt/mongodbtoolchain/v4/bin -gdwarf-5 -pthread -Wl,-z,now -fuse-ld=lld -fstack-protector-strong -gdwarf64 -Wl,--build-id -Wl,--hash-style=gnu -Wl,-z,noexecstack -Wl,--warn-execstack -Wl,-z,relro -Wl,--compress-debug-sections=none -Wl,-z,origin -Wl,--enable-new-dtags\",\"target_arch\":\"x86_64\",\"target_os\":\"linux\",\"cppdefines\":\"SAFEINT_USE_INTRINSICS 0 PCRE2_STATIC ABSL_ALLOCATOR_NOTHROW NDEBUG _XOPEN_SOURCE 700 _GNU_SOURCE _FORTIFY_SOURCE 2 ABSL_FORCE_ALIGNED_ACCESS BOOST_ENABLE_ASSERT_DEBUG_HANDLER BOOST_FILESYSTEM_NO_CXX20_ATOMIC_REF BOOST_LOG_NO_SHORTHAND_NAMES BOOST_LOG_USE_NATIVE_SYSLOG BOOST_LOG_WITHOUT_THREAD_ATTR BOOST_MATH_NO_LONG_DOUBLE_MATH_FUNCTIONS BOOST_SYSTEM_NO_DEPRECATED BOOST_THREAD_USES_DATETIME BOOST_THREAD_VERSION 5\"},\"bits\":64,\"debug\":false,\"maxBsonObjectSize\":16777216,\"storageEngines\":[\"devnull\",\"wiredTiger\"]}}]\n"
     ]
    }
   ],
   "source": [
    "import requests\n",
    "\n",
    "url = \"http://localhost:8020/get_data\"\n",
    "params = {\"username\": \"SuperUser1\", \"auth_token\": \"votre_token\"}\n",
    "\n",
    "response = requests.get(url=url, params=params)\n",
    "print(response.text)\n"
   ]
  },
  {
   "cell_type": "code",
   "execution_count": 13,
   "metadata": {},
   "outputs": [
    {
     "name": "stdout",
     "output_type": "stream",
     "text": [
      "{'detail': 'Erreur HTTP: {\"detail\":[{\"type\":\"list_type\",\"loc\":[\"body\"],\"msg\":\"Input should be a valid list\",\"input\":{\"key1\":\"val1\",\"key2\":\"val2\"}}]}'}\n"
     ]
    }
   ],
   "source": [
    "import requests\n",
    "\n",
    "url = \"http://localhost:8020/add_data\"\n",
    "data = {\"key1\": \"val1\", \"key2\": \"val2\"}  # Remplacez par vos données\n",
    "params = {\"username\": \"User1\", \"auth_token\": \"votre_token\"}\n",
    "\n",
    "response = requests.post(url=url, json=data, params=params)\n",
    "print(response.json())\n"
   ]
  },
  {
   "cell_type": "code",
   "execution_count": 14,
   "metadata": {},
   "outputs": [
    {
     "name": "stdout",
     "output_type": "stream",
     "text": [
      "{'detail': 'Erreur HTTP: {\"detail\":[{\"type\":\"missing\",\"loc\":[\"query\",\"id\"],\"msg\":\"Field required\",\"input\":null},{\"type\":\"missing\",\"loc\":[\"body\",\"name\"],\"msg\":\"Field required\",\"input\":{\"key1\":\"new_val1\",\"key2\":\"new_val2\"}},{\"type\":\"missing\",\"loc\":[\"body\",\"value\"],\"msg\":\"Field required\",\"input\":{\"key1\":\"new_val1\",\"key2\":\"new_val2\"}}]}'}\n"
     ]
    }
   ],
   "source": [
    "import requests\n",
    "\n",
    "url = \"http://localhost:8020/update_data\"\n",
    "data = {\"key1\": \"new_val1\", \"key2\": \"new_val2\"}  # Remplacez par vos données\n",
    "params = {\"username\": \"User1\", \"auth_token\": \"votre_token\"}\n",
    "\n",
    "response = requests.post(url=url, json=data, params=params)\n",
    "print(response.json())\n"
   ]
  },
  {
   "cell_type": "code",
   "execution_count": 15,
   "metadata": {},
   "outputs": [
    {
     "name": "stdout",
     "output_type": "stream",
     "text": [
      "{'detail': 'Erreur HTTP: {\"detail\":\"Method Not Allowed\"}'}\n"
     ]
    }
   ],
   "source": [
    "import requests\n",
    "\n",
    "url = \"http://localhost:8020/delete_data\"\n",
    "data = {\"key\": \"val\"}  # Remplacez par vos données\n",
    "params = {\"username\": \"User1\", \"auth_token\": \"votre_token\"}\n",
    "\n",
    "response = requests.delete(url=url, json=data, params=params)\n",
    "print(response.json())\n"
   ]
  }
 ],
 "metadata": {
  "kernelspec": {
   "display_name": "MLops_Sini",
   "language": "python",
   "name": "python3"
  },
  "language_info": {
   "codemirror_mode": {
    "name": "ipython",
    "version": 3
   },
   "file_extension": ".py",
   "mimetype": "text/x-python",
   "name": "python",
   "nbconvert_exporter": "python",
   "pygments_lexer": "ipython3",
   "version": "3.12.8"
  }
 },
 "nbformat": 4,
 "nbformat_minor": 2
}
